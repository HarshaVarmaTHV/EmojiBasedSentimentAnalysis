{
 "cells": [
  {
   "cell_type": "markdown",
   "id": "8943aef9",
   "metadata": {},
   "source": [
    "# Base Line Method\n",
    "\n",
    "This Jupyter notebook contains the implementation of the baseline method. It uses the 3 original csv files and 'labelled_sample_tweets.csv' as input and creates 'BaseLineApproach_Final_tweets.csv'\n",
    "Import the datasets and combine the datasets into a single dataframe"
   ]
  },
  {
   "cell_type": "code",
   "execution_count": 1,
   "id": "18c4a153",
   "metadata": {},
   "outputs": [
    {
     "data": {
      "text/html": [
       "<div>\n",
       "<style scoped>\n",
       "    .dataframe tbody tr th:only-of-type {\n",
       "        vertical-align: middle;\n",
       "    }\n",
       "\n",
       "    .dataframe tbody tr th {\n",
       "        vertical-align: top;\n",
       "    }\n",
       "\n",
       "    .dataframe thead th {\n",
       "        text-align: right;\n",
       "    }\n",
       "</style>\n",
       "<table border=\"1\" class=\"dataframe\">\n",
       "  <thead>\n",
       "    <tr style=\"text-align: right;\">\n",
       "      <th></th>\n",
       "      <th>Date</th>\n",
       "      <th>User</th>\n",
       "      <th>Tweet</th>\n",
       "      <th>Time</th>\n",
       "    </tr>\n",
       "  </thead>\n",
       "  <tbody>\n",
       "    <tr>\n",
       "      <th>0</th>\n",
       "      <td>2022:10:19</td>\n",
       "      <td>bhoo_sene</td>\n",
       "      <td>@TajinderBagga Aap leaders are speaking agains...</td>\n",
       "      <td>23:47:01</td>\n",
       "    </tr>\n",
       "    <tr>\n",
       "      <th>1</th>\n",
       "      <td>2022:10:19</td>\n",
       "      <td>Madhusu88858324</td>\n",
       "      <td>Bjp Aap se sikh rhi h\\nNarendra Modi Manish Si...</td>\n",
       "      <td>23:06:35</td>\n",
       "    </tr>\n",
       "    <tr>\n",
       "      <th>2</th>\n",
       "      <td>2022:10:19</td>\n",
       "      <td>PremshilaKumarp</td>\n",
       "      <td>@JaikyYadav16 Arvind kejriwal</td>\n",
       "      <td>22:56:42</td>\n",
       "    </tr>\n",
       "    <tr>\n",
       "      <th>3</th>\n",
       "      <td>2022:10:19</td>\n",
       "      <td>lifebecom</td>\n",
       "      <td>Arvind Kejriwal As PM Visits Gujarat School ht...</td>\n",
       "      <td>22:20:51</td>\n",
       "    </tr>\n",
       "    <tr>\n",
       "      <th>4</th>\n",
       "      <td>2022:10:19</td>\n",
       "      <td>sphavisha</td>\n",
       "      <td>Arvind Kejriwal's stand against rape is very c...</td>\n",
       "      <td>22:20:16</td>\n",
       "    </tr>\n",
       "  </tbody>\n",
       "</table>\n",
       "</div>"
      ],
      "text/plain": [
       "         Date             User  \\\n",
       "0  2022:10:19        bhoo_sene   \n",
       "1  2022:10:19  Madhusu88858324   \n",
       "2  2022:10:19  PremshilaKumarp   \n",
       "3  2022:10:19        lifebecom   \n",
       "4  2022:10:19        sphavisha   \n",
       "\n",
       "                                               Tweet      Time  \n",
       "0  @TajinderBagga Aap leaders are speaking agains...  23:47:01  \n",
       "1  Bjp Aap se sikh rhi h\\nNarendra Modi Manish Si...  23:06:35  \n",
       "2                      @JaikyYadav16 Arvind kejriwal  22:56:42  \n",
       "3  Arvind Kejriwal As PM Visits Gujarat School ht...  22:20:51  \n",
       "4  Arvind Kejriwal's stand against rape is very c...  22:20:16  "
      ]
     },
     "execution_count": 1,
     "metadata": {},
     "output_type": "execute_result"
    }
   ],
   "source": [
    "# Import the necessary library\n",
    "import pandas as pd\n",
    "\n",
    "# Load the datasets again\n",
    "kejriwal_data = pd.read_csv(\"../Datasets/Arvind Kejriwal_data.csv\")\n",
    "modi_data = pd.read_csv(\"../Datasets/Narendra Modi_data.csv\")\n",
    "gandhi_data = pd.read_csv(\"../Datasets/Rahul Gandhi_data.csv\")\n",
    "\n",
    "# Combine the datasets into a single dataframe\n",
    "combined_data = pd.concat([kejriwal_data, modi_data, gandhi_data], ignore_index=True)\n",
    "\n",
    "# Display the first few rows of the combined dataset to verify\n",
    "combined_data.head()\n"
   ]
  },
  {
   "cell_type": "markdown",
   "id": "dc27d2da",
   "metadata": {},
   "source": [
    "### Cleaning"
   ]
  },
  {
   "cell_type": "code",
   "execution_count": 2,
   "id": "a1fd2934",
   "metadata": {},
   "outputs": [],
   "source": [
    "\n",
    "# Define the cleaning function to retain exclamatory marks (!) and question marks (?)\n",
    "def clean_tweet_retain_special(tweet):\n",
    "    # Remove URLs\n",
    "    tweet = re.sub(r'http\\S+|www\\S+|https\\S+', '', tweet, flags=re.MULTILINE)\n",
    "    # Remove user mentions (@)\n",
    "    tweet = re.sub(r'\\@\\w+', '', tweet)\n",
    "    tweet = re.sub(r'\\s+[a-zA-Z]\\s+', ' ', tweet)\n",
    "    tweet = re.sub(r'\\^[a-zA-Z]\\s+', ' ', tweet) \n",
    "    tweet = re.sub(r'\\s+', ' ', tweet, flags=re.I)\n",
    "    tweet = re.sub(r'^b\\s+', '', tweet)\n",
    "    # Convert to lowercase for uniformity (but note that this won't impact non-Latin scripts)\n",
    "    tweet = tweet.lower()\n",
    "    return tweet\n"
   ]
  },
  {
   "cell_type": "code",
   "execution_count": 3,
   "id": "b377353b",
   "metadata": {
    "scrolled": true
   },
   "outputs": [
    {
     "data": {
      "text/html": [
       "<div>\n",
       "<style scoped>\n",
       "    .dataframe tbody tr th:only-of-type {\n",
       "        vertical-align: middle;\n",
       "    }\n",
       "\n",
       "    .dataframe tbody tr th {\n",
       "        vertical-align: top;\n",
       "    }\n",
       "\n",
       "    .dataframe thead th {\n",
       "        text-align: right;\n",
       "    }\n",
       "</style>\n",
       "<table border=\"1\" class=\"dataframe\">\n",
       "  <thead>\n",
       "    <tr style=\"text-align: right;\">\n",
       "      <th></th>\n",
       "      <th>Tweet</th>\n",
       "      <th>Cleaned_Tweet</th>\n",
       "    </tr>\n",
       "  </thead>\n",
       "  <tbody>\n",
       "    <tr>\n",
       "      <th>0</th>\n",
       "      <td>@TajinderBagga Aap leaders are speaking agains...</td>\n",
       "      <td>aap leaders are speaking against hindu gods. ...</td>\n",
       "    </tr>\n",
       "    <tr>\n",
       "      <th>1</th>\n",
       "      <td>Bjp Aap se sikh rhi h\\nNarendra Modi Manish Si...</td>\n",
       "      <td>bjp aap se sikh rhi narendra modi manish sisod...</td>\n",
       "    </tr>\n",
       "    <tr>\n",
       "      <th>2</th>\n",
       "      <td>@JaikyYadav16 Arvind kejriwal</td>\n",
       "      <td>arvind kejriwal</td>\n",
       "    </tr>\n",
       "    <tr>\n",
       "      <th>3</th>\n",
       "      <td>Arvind Kejriwal As PM Visits Gujarat School ht...</td>\n",
       "      <td>arvind kejriwal as pm visits gujarat school</td>\n",
       "    </tr>\n",
       "    <tr>\n",
       "      <th>4</th>\n",
       "      <td>Arvind Kejriwal's stand against rape is very c...</td>\n",
       "      <td>arvind kejriwal's stand against rape is very c...</td>\n",
       "    </tr>\n",
       "  </tbody>\n",
       "</table>\n",
       "</div>"
      ],
      "text/plain": [
       "                                               Tweet  \\\n",
       "0  @TajinderBagga Aap leaders are speaking agains...   \n",
       "1  Bjp Aap se sikh rhi h\\nNarendra Modi Manish Si...   \n",
       "2                      @JaikyYadav16 Arvind kejriwal   \n",
       "3  Arvind Kejriwal As PM Visits Gujarat School ht...   \n",
       "4  Arvind Kejriwal's stand against rape is very c...   \n",
       "\n",
       "                                       Cleaned_Tweet  \n",
       "0   aap leaders are speaking against hindu gods. ...  \n",
       "1  bjp aap se sikh rhi narendra modi manish sisod...  \n",
       "2                                    arvind kejriwal  \n",
       "3       arvind kejriwal as pm visits gujarat school   \n",
       "4  arvind kejriwal's stand against rape is very c...  "
      ]
     },
     "execution_count": 3,
     "metadata": {},
     "output_type": "execute_result"
    }
   ],
   "source": [
    "import re\n",
    "\n",
    "# Clean the tweets in the dataset without removing exclamatory marks and question marks\n",
    "combined_data['Cleaned_Tweet'] = combined_data['Tweet'].apply(clean_tweet_retain_special)\n",
    "\n",
    "# Remove duplicates based on the cleaned tweets\n",
    "combined_data.drop_duplicates(subset=['Cleaned_Tweet'], keep='first', inplace=True)\n",
    "\n",
    "# Display the first few rows after cleaning\n",
    "combined_data[['Tweet', 'Cleaned_Tweet']].head()"
   ]
  },
  {
   "cell_type": "code",
   "execution_count": 4,
   "id": "944e9afc",
   "metadata": {},
   "outputs": [],
   "source": [
    "import nltk\n",
    "import matplotlib.pyplot as plt\n",
    "from collections import Counter\n",
    "\n",
    "# Tokenization using space-based split\n",
    "combined_data['Tokens'] = combined_data['Cleaned_Tweet'].str.split()"
   ]
  },
  {
   "cell_type": "code",
   "execution_count": 5,
   "id": "2256bfb5",
   "metadata": {},
   "outputs": [
    {
     "data": {
      "text/plain": [
       "(171770, 6)"
      ]
     },
     "execution_count": 5,
     "metadata": {},
     "output_type": "execute_result"
    }
   ],
   "source": [
    "import ast\n",
    "\n",
    "# 1. Load the data into a dataframe\n",
    "BaseLineApproach_Final_tweets =  pd.read_csv('../Temp/labelled_sample_tweets.csv')\n",
    "\n",
    "# Convert the string representation of list to an actual list\n",
    "BaseLineApproach_Final_tweets['Tokens'] = BaseLineApproach_Final_tweets['Tokens'].apply(ast.literal_eval)\n",
    "\n",
    "# 2. Remove matching tweets from combined_data\n",
    "filtered_combined_data = combined_data[~combined_data['Tweet'].isin(BaseLineApproach_Final_tweets['Tweet'])]\n",
    "\n",
    "# Check the shape of the updated combined_data dataframe\n",
    "filtered_combined_data.shape\n"
   ]
  },
  {
   "cell_type": "code",
   "execution_count": 6,
   "id": "c75d972a",
   "metadata": {},
   "outputs": [
    {
     "data": {
      "text/html": [
       "<div>\n",
       "<style scoped>\n",
       "    .dataframe tbody tr th:only-of-type {\n",
       "        vertical-align: middle;\n",
       "    }\n",
       "\n",
       "    .dataframe tbody tr th {\n",
       "        vertical-align: top;\n",
       "    }\n",
       "\n",
       "    .dataframe thead th {\n",
       "        text-align: right;\n",
       "    }\n",
       "</style>\n",
       "<table border=\"1\" class=\"dataframe\">\n",
       "  <thead>\n",
       "    <tr style=\"text-align: right;\">\n",
       "      <th></th>\n",
       "      <th>Date</th>\n",
       "      <th>User</th>\n",
       "      <th>Tweet</th>\n",
       "      <th>Time</th>\n",
       "      <th>Cleaned_Tweet</th>\n",
       "      <th>Tokens</th>\n",
       "      <th>Manual_Label</th>\n",
       "    </tr>\n",
       "  </thead>\n",
       "  <tbody>\n",
       "    <tr>\n",
       "      <th>0</th>\n",
       "      <td>2022:08:10</td>\n",
       "      <td>tsg_sportsgrail</td>\n",
       "      <td>AAP MLA Saurabh Bhardwaj Lies About Divya Kakr...</td>\n",
       "      <td>9:02:30</td>\n",
       "      <td>aap mla saurabh bhardwaj lies about divya kakr...</td>\n",
       "      <td>[AAP, MLA, Saurabh, Bhardwaj, Lies, About, Div...</td>\n",
       "      <td>Neutral</td>\n",
       "    </tr>\n",
       "    <tr>\n",
       "      <th>1</th>\n",
       "      <td>2022:10:10</td>\n",
       "      <td>TIMES18News</td>\n",
       "      <td>RJD President Lalu Prasad Tejashwi Yadav Pitch...</td>\n",
       "      <td>12:52:39</td>\n",
       "      <td>rjd president lalu prasad tejashwi yadav pitch...</td>\n",
       "      <td>[RJD, President, Lalu, Prasad, Tejashwi, Yadav...</td>\n",
       "      <td>Neutral</td>\n",
       "    </tr>\n",
       "    <tr>\n",
       "      <th>2</th>\n",
       "      <td>2022:09:21</td>\n",
       "      <td>HUNTDAILYNEWS1</td>\n",
       "      <td>French President Emmanuel Macron said Indian P...</td>\n",
       "      <td>4:28:54</td>\n",
       "      <td>french president emmanuel macron said indian p...</td>\n",
       "      <td>[French, President, Emmanuel, Macron, said, In...</td>\n",
       "      <td>Negative</td>\n",
       "    </tr>\n",
       "    <tr>\n",
       "      <th>3</th>\n",
       "      <td>2022:07:12</td>\n",
       "      <td>tfipost</td>\n",
       "      <td>The appointment of Raghav Chadha as a secret C...</td>\n",
       "      <td>9:30:00</td>\n",
       "      <td>the appointment of raghav chadha as secret chi...</td>\n",
       "      <td>[The, appointment, of, Raghav, Chadha, as, a, ...</td>\n",
       "      <td>Neutral</td>\n",
       "    </tr>\n",
       "    <tr>\n",
       "      <th>4</th>\n",
       "      <td>2022:08:27</td>\n",
       "      <td>Man_u_man</td>\n",
       "      <td>@thatmarineguy21 @ArvindKejriwal Arvind kejriw...</td>\n",
       "      <td>13:52:23</td>\n",
       "      <td>arvind kejriwal will not answer but he will q...</td>\n",
       "      <td>[@thatmarineguy21, @ArvindKejriwal, Arvind, ke...</td>\n",
       "      <td>Negative</td>\n",
       "    </tr>\n",
       "  </tbody>\n",
       "</table>\n",
       "</div>"
      ],
      "text/plain": [
       "         Date             User  \\\n",
       "0  2022:08:10  tsg_sportsgrail   \n",
       "1  2022:10:10      TIMES18News   \n",
       "2  2022:09:21   HUNTDAILYNEWS1   \n",
       "3  2022:07:12          tfipost   \n",
       "4  2022:08:27        Man_u_man   \n",
       "\n",
       "                                               Tweet      Time  \\\n",
       "0  AAP MLA Saurabh Bhardwaj Lies About Divya Kakr...   9:02:30   \n",
       "1  RJD President Lalu Prasad Tejashwi Yadav Pitch...  12:52:39   \n",
       "2  French President Emmanuel Macron said Indian P...   4:28:54   \n",
       "3  The appointment of Raghav Chadha as a secret C...   9:30:00   \n",
       "4  @thatmarineguy21 @ArvindKejriwal Arvind kejriw...  13:52:23   \n",
       "\n",
       "                                       Cleaned_Tweet  \\\n",
       "0  aap mla saurabh bhardwaj lies about divya kakr...   \n",
       "1  rjd president lalu prasad tejashwi yadav pitch...   \n",
       "2  french president emmanuel macron said indian p...   \n",
       "3  the appointment of raghav chadha as secret chi...   \n",
       "4   arvind kejriwal will not answer but he will q...   \n",
       "\n",
       "                                              Tokens Manual_Label  \n",
       "0  [AAP, MLA, Saurabh, Bhardwaj, Lies, About, Div...      Neutral  \n",
       "1  [RJD, President, Lalu, Prasad, Tejashwi, Yadav...      Neutral  \n",
       "2  [French, President, Emmanuel, Macron, said, In...     Negative  \n",
       "3  [The, appointment, of, Raghav, Chadha, as, a, ...      Neutral  \n",
       "4  [@thatmarineguy21, @ArvindKejriwal, Arvind, ke...     Negative  "
      ]
     },
     "execution_count": 6,
     "metadata": {},
     "output_type": "execute_result"
    }
   ],
   "source": [
    "BaseLineApproach_Final_tweets.head()"
   ]
  },
  {
   "cell_type": "markdown",
   "id": "66b4a581",
   "metadata": {},
   "source": [
    "### Vectorization\n",
    "\n",
    "1. further clean the unwanted characters in the tweets\n",
    "2. Apply Tokenization to the tweets\n",
    "3. train the FastText model, we will get the vector for each token in the data"
   ]
  },
  {
   "cell_type": "code",
   "execution_count": 7,
   "id": "8ff9f759",
   "metadata": {},
   "outputs": [
    {
     "name": "stdout",
     "output_type": "stream",
     "text": [
      "[-1.6737800e-03 -1.6334209e-04 -1.0607428e-03 -7.1109453e-04\n",
      "  5.1046680e-03  3.7176069e-04 -5.1890127e-04  1.3070498e-03\n",
      "  6.4595853e-04 -1.9713523e-04 -2.5431504e-03  6.5337954e-04\n",
      "  2.7899095e-03  2.7588897e-03 -1.6142211e-03  1.6122329e-04\n",
      " -3.0041390e-04  4.6447185e-05  2.1444692e-03 -1.1812277e-03\n",
      " -2.6238279e-03 -2.5478839e-03  1.1665034e-03 -1.8224716e-03\n",
      "  7.3897303e-04  2.6965039e-04  2.9206870e-04  1.5701848e-03\n",
      "  1.5052111e-03 -5.2851328e-04  1.7235978e-04 -1.3156532e-04\n",
      "  9.4163197e-04 -3.6704793e-04 -7.9250993e-04 -1.2271575e-03\n",
      "  2.4588064e-03 -1.7028752e-03 -3.4969111e-04 -1.4649958e-03\n",
      "  3.7300616e-04  2.2935090e-03  1.4525955e-03  9.6184906e-04\n",
      "  1.0134100e-03 -4.1673006e-04 -2.9901310e-03  1.0952280e-03\n",
      " -2.0914124e-03 -2.3866745e-03  7.4333051e-04 -1.4371086e-03\n",
      " -3.1893598e-03 -2.4329582e-03 -3.4574969e-05 -1.7562107e-03\n",
      "  1.0646955e-03 -1.0118615e-03 -2.9390918e-03 -5.9648685e-04\n",
      "  1.3953060e-03  8.6427765e-04 -2.9732872e-04  2.0459525e-03\n",
      "  1.4061946e-04  6.0169661e-04  1.1567627e-03  6.4838887e-04\n",
      " -2.0370632e-03 -8.1456150e-04  2.3871084e-04  8.1899820e-04\n",
      "  3.5743174e-04 -4.9943582e-04 -1.4477000e-03 -1.4870927e-03\n",
      " -2.5386151e-04  6.3498324e-04 -2.0400691e-03  4.3779160e-03\n",
      "  9.1175974e-04 -1.3982758e-03 -1.5997155e-04 -1.8957288e-03\n",
      "  6.9207005e-04 -1.1267416e-03 -2.7728269e-03  2.1759752e-04\n",
      " -2.5820156e-05  6.6861446e-04  6.9181755e-04  3.8235851e-03\n",
      "  7.4732886e-04  2.0754274e-03  2.6822397e-03 -5.7564356e-04\n",
      " -8.4403990e-04 -1.0954301e-03  1.7084534e-03 -3.2543654e-03]\n",
      "100\n"
     ]
    }
   ],
   "source": [
    "from gensim.models import FastText\n",
    "import re\n",
    "def extended_cleaning(text):\n",
    "    # Remove unwanted characters\n",
    "    text = re.sub(r'--|-|&|gt|;|#|\\||\\?', ' ', text)\n",
    "    # Replace multiple spaces with a single space\n",
    "    text = re.sub(r'\\s+', ' ', text).strip()\n",
    "    return text\n",
    "\n",
    "# Apply the extended cleaning\n",
    "BaseLineApproach_Final_tweets['Enhanced_Cleaned_Tweet'] = BaseLineApproach_Final_tweets['Cleaned_Tweet'].apply(extended_cleaning)\n",
    "\n",
    "# Tokenize the enhanced cleaned tweets\n",
    "tokenized_tweets = BaseLineApproach_Final_tweets['Enhanced_Cleaned_Tweet'].apply(nltk.word_tokenize)\n",
    "\n",
    "# Train the FastText model\n",
    "model = FastText(sentences=tokenized_tweets, vector_size=100, window=5, min_count=5, workers=4)\n",
    "\n",
    "# Now, for each word in our vocabulary, we can get its vector representation\n",
    "# For example, to get the vector for the word 'politics':\n",
    "print(model.wv['modi'])\n",
    "print(len(model.wv['modi']))\n"
   ]
  },
  {
   "cell_type": "markdown",
   "id": "9543d1f3",
   "metadata": {},
   "source": [
    "Lets visualize the vectors"
   ]
  },
  {
   "cell_type": "code",
   "execution_count": 8,
   "id": "79805298",
   "metadata": {},
   "outputs": [
    {
     "data": {
      "image/png": "[encoded data removed]",
      "text/plain": [
       "<Figure size 720x576 with 1 Axes>"
      ]
     },
     "metadata": {
      "needs_background": "light"
     },
     "output_type": "display_data"
    }
   ],
   "source": [
    "import matplotlib.pyplot as plt\n",
    "from sklearn.decomposition import PCA\n",
    "\n",
    "# Extract word vectors for a selected list of words (you can customize this list)\n",
    "words = ['modi', 'kejriwal', 'rahul', 'india', 'politics', 'leader', 'party', 'election', 'vote', 'government']\n",
    "word_vectors = [model.wv[word] for word in words]\n",
    "\n",
    "# Apply PCA to reduce dimensions to 2\n",
    "pca = PCA(n_components=2)\n",
    "result = pca.fit_transform(word_vectors)\n",
    "\n",
    "# Create the scatter plot\n",
    "plt.figure(figsize=(10, 8))\n",
    "plt.scatter(result[:, 0], result[:, 1])\n",
    "for i, word in enumerate(words):\n",
    "    plt.annotate(word, xy=(result[i, 0], result[i, 1]))\n",
    "\n",
    "plt.title(\"2D visualization of word embeddings\")\n",
    "plt.xlabel(\"Principal Component 1\")\n",
    "plt.ylabel(\"Principal Component 2\")\n",
    "plt.grid(True)\n",
    "plt.show()\n"
   ]
  },
  {
   "cell_type": "markdown",
   "id": "77fa8820",
   "metadata": {},
   "source": [
    "### SentiWordNet\n",
    "\n",
    "Lets first load the sentiwordnet files into the system"
   ]
  },
  {
   "cell_type": "code",
   "execution_count": 9,
   "id": "50bd84b3",
   "metadata": {},
   "outputs": [],
   "source": [
    "import pandas as pd\n",
    "from nltk.corpus import sentiwordnet as swn\n",
    "\n",
    "# Load Hindi SentiWordNet\n",
    "hindi_swn = pd.read_csv('../SentiWordNet/HSWN_WN.txt', sep=' ', header=None)\n",
    "hindi_pos = set(hindi_swn[hindi_swn[2] > hindi_swn[3]][4])\n",
    "hindi_neg = set(hindi_swn[hindi_swn[2] < hindi_swn[3]][4])\n",
    "hindi_neu = set(hindi_swn[hindi_swn[2] == hindi_swn[3]][4])\n",
    "hindi_pos_list = [word for sublist in hindi_pos for word in sublist.split(',')]\n",
    "hindi_neg_list = [word for sublist in hindi_neg for word in sublist.split(',')]\n",
    "hindi_neu_list = [word for sublist in hindi_neu for word in sublist.split(',')]\n",
    "\n",
    "# Load Telugu SentiWordNet\n",
    "telugu_pos = set(pd.read_csv('../SentiWordNet/TE_POS.txt', sep='\\t', header=None)[1])\n",
    "telugu_neg = set(pd.read_csv('../SentiWordNet/TE_NEG.txt', sep='\\t', header=None)[1])\n",
    "telugu_neu = set(pd.read_csv('../SentiWordNet/TE_NEU.txt', sep='\\t', header=None)[1])\n",
    "\n",
    "# For English SentiWordNet, you can use NLTK's in-built SentiWordNet\n"
   ]
  },
  {
   "cell_type": "markdown",
   "id": "84ecd82c",
   "metadata": {},
   "source": [
    "### Testing\n",
    "\n",
    "Lets first see how it works"
   ]
  },
  {
   "cell_type": "code",
   "execution_count": 10,
   "id": "9e42e496",
   "metadata": {},
   "outputs": [],
   "source": [
    "def get_sentiment(word, lang):\n",
    "    if lang == 'en':\n",
    "        # For simplicity, using TextBlob for English\n",
    "        from textblob import TextBlob\n",
    "        polarity = TextBlob(word).sentiment.polarity\n",
    "        if polarity > 0:\n",
    "            return 'Positive'\n",
    "        elif polarity < 0:\n",
    "            return 'Negative'\n",
    "        else:\n",
    "            return 'Neutral'\n",
    "    \n",
    "    elif lang == 'hi':\n",
    "        # Lookup in Hindi SentiWordNet\n",
    "        if word in hindi_pos_list:\n",
    "            return 'Positive'\n",
    "        elif word in hindi_neg_list:\n",
    "            return 'Negative'\n",
    "        elif word in hindi_neu_list:\n",
    "            return 'Neutral'\n",
    "        else:\n",
    "            return 'Unknown'\n",
    "    \n",
    "    elif lang == 'te':\n",
    "        # Lookup in Telugu SentiWordNet\n",
    "        if word in telugu_pos:\n",
    "            return 'Positive'\n",
    "        elif word in telugu_neg:\n",
    "            return 'Negative'\n",
    "        elif word in telugu_neu:\n",
    "            return 'Neutral'\n",
    "        else:\n",
    "            return 'Unknown'\n",
    "    \n",
    "    else:\n",
    "        return 'Unknown'"
   ]
  },
  {
   "cell_type": "code",
   "execution_count": 12,
   "id": "f3f5f07a",
   "metadata": {},
   "outputs": [
    {
     "data": {
      "text/html": [
       "<div>\n",
       "<style scoped>\n",
       "    .dataframe tbody tr th:only-of-type {\n",
       "        vertical-align: middle;\n",
       "    }\n",
       "\n",
       "    .dataframe tbody tr th {\n",
       "        vertical-align: top;\n",
       "    }\n",
       "\n",
       "    .dataframe thead th {\n",
       "        text-align: right;\n",
       "    }\n",
       "</style>\n",
       "<table border=\"1\" class=\"dataframe\">\n",
       "  <thead>\n",
       "    <tr style=\"text-align: right;\">\n",
       "      <th></th>\n",
       "      <th>Language</th>\n",
       "      <th>Word</th>\n",
       "      <th>Sentiment</th>\n",
       "    </tr>\n",
       "  </thead>\n",
       "  <tbody>\n",
       "    <tr>\n",
       "      <th>0</th>\n",
       "      <td>English</td>\n",
       "      <td>happy</td>\n",
       "      <td>Positive</td>\n",
       "    </tr>\n",
       "    <tr>\n",
       "      <th>1</th>\n",
       "      <td>English</td>\n",
       "      <td>sad</td>\n",
       "      <td>Negative</td>\n",
       "    </tr>\n",
       "    <tr>\n",
       "      <th>2</th>\n",
       "      <td>English</td>\n",
       "      <td>neutral</td>\n",
       "      <td>Neutral</td>\n",
       "    </tr>\n",
       "    <tr>\n",
       "      <th>3</th>\n",
       "      <td>Hindi</td>\n",
       "      <td>खुश</td>\n",
       "      <td>Positive</td>\n",
       "    </tr>\n",
       "    <tr>\n",
       "      <th>4</th>\n",
       "      <td>Hindi</td>\n",
       "      <td>दुःखी</td>\n",
       "      <td>Negative</td>\n",
       "    </tr>\n",
       "    <tr>\n",
       "      <th>5</th>\n",
       "      <td>Hindi</td>\n",
       "      <td>आज</td>\n",
       "      <td>Neutral</td>\n",
       "    </tr>\n",
       "    <tr>\n",
       "      <th>6</th>\n",
       "      <td>Telugu</td>\n",
       "      <td>సంతోషంగా</td>\n",
       "      <td>Positive</td>\n",
       "    </tr>\n",
       "    <tr>\n",
       "      <th>7</th>\n",
       "      <td>Telugu</td>\n",
       "      <td>దుఃఖము</td>\n",
       "      <td>Negative</td>\n",
       "    </tr>\n",
       "    <tr>\n",
       "      <th>8</th>\n",
       "      <td>Telugu</td>\n",
       "      <td>ప్లీనరీ</td>\n",
       "      <td>Neutral</td>\n",
       "    </tr>\n",
       "  </tbody>\n",
       "</table>\n",
       "</div>"
      ],
      "text/plain": [
       "  Language      Word Sentiment\n",
       "0  English     happy  Positive\n",
       "1  English       sad  Negative\n",
       "2  English   neutral   Neutral\n",
       "3    Hindi       खुश  Positive\n",
       "4    Hindi     दुःखी  Negative\n",
       "5    Hindi        आज   Neutral\n",
       "6   Telugu  సంతోషంగా  Positive\n",
       "7   Telugu    దుఃఖము  Negative\n",
       "8   Telugu   ప్లీనరీ   Neutral"
      ]
     },
     "execution_count": 12,
     "metadata": {},
     "output_type": "execute_result"
    }
   ],
   "source": [
    "# Sample words from each language\n",
    "sample_words = {\n",
    "    'English': ['happy', 'sad', 'neutral'],\n",
    "    'Hindi': ['खुश', 'दुःखी', 'आज'], \n",
    "    'Telugu': ['సంతోషంగా', 'దుఃఖము', 'ప్లీనరీ'] \n",
    "}\n",
    "# Fetch sentiment for each word\n",
    "sentiments = {\n",
    "    'English': [get_sentiment(word, 'en') for word in sample_words['English']],\n",
    "    'Hindi': [get_sentiment(word, 'hi') for word in sample_words['Hindi']],\n",
    "    'Telugu': [get_sentiment(word, 'te') for word in sample_words['Telugu']]\n",
    "}\n",
    "\n",
    "# Convert to DataFrame for display\n",
    "df_sample_words = pd.DataFrame({\n",
    "    'Language': ['English']*3 + ['Hindi']*3 + ['Telugu']*3,\n",
    "    'Word': sample_words['English'] + sample_words['Hindi'] + sample_words['Telugu'],\n",
    "    'Sentiment': sentiments['English'] + sentiments['Hindi'] + sentiments['Telugu']\n",
    "})\n",
    "\n",
    "df_sample_words\n"
   ]
  },
  {
   "cell_type": "code",
   "execution_count": 13,
   "id": "7db0b780",
   "metadata": {},
   "outputs": [
    {
     "data": {
      "text/plain": [
       "'Positive'"
      ]
     },
     "execution_count": 13,
     "metadata": {},
     "output_type": "execute_result"
    }
   ],
   "source": [
    "get_sentiment('खुश', 'hi')"
   ]
  },
  {
   "cell_type": "markdown",
   "id": "8185737b",
   "metadata": {},
   "source": [
    "### Sentiment Score Calculation\n",
    "\n",
    "Lets create a function that will calculate the sentiment score for each word"
   ]
  },
  {
   "cell_type": "code",
   "execution_count": 14,
   "id": "8d4bdbf5",
   "metadata": {},
   "outputs": [],
   "source": [
    "def calculate_sentiment_score(tweet_tokens):\n",
    "    score = 0\n",
    "    for word in tweet_tokens:\n",
    "        # Check for word in Hindi SentiWordNet\n",
    "        if word in hindi_pos_list:\n",
    "            score += 1\n",
    "        elif word in hindi_neg_list:\n",
    "            score -= 1\n",
    "        # Check for word in Telugu SentiWordNet\n",
    "        elif word in telugu_pos:\n",
    "            score += 1\n",
    "        elif word in telugu_neg:\n",
    "            score -= 1\n",
    "        # Check for word in English SentiWordNet (this can be expanded)\n",
    "        else:\n",
    "            # Assuming the word is an adjective for simplicity;\n",
    "            pos_types = ['n', 'v', 'a', 'r']\n",
    "            for pos in pos_types:\n",
    "                senti_synsets = list(swn.senti_synsets(word, pos))\n",
    "                if senti_synsets:\n",
    "                    score += senti_synsets[0].pos_score() - senti_synsets[0].neg_score()\n",
    "    return score"
   ]
  },
  {
   "cell_type": "code",
   "execution_count": 15,
   "id": "6b7e6253",
   "metadata": {},
   "outputs": [
    {
     "data": {
      "text/plain": [
       "0.875"
      ]
     },
     "execution_count": 15,
     "metadata": {},
     "output_type": "execute_result"
    }
   ],
   "source": [
    "# Calculate sentiment score for the 97th tweet\n",
    "calculate_sentiment_score(BaseLineApproach_Final_tweets.iloc[97]['Tokens'])"
   ]
  },
  {
   "cell_type": "markdown",
   "id": "573fb6a7",
   "metadata": {},
   "source": [
    "Apply it to all the Tweets to get the sentiment scores"
   ]
  },
  {
   "cell_type": "code",
   "execution_count": 16,
   "id": "7942d4d9",
   "metadata": {},
   "outputs": [],
   "source": [
    "# Calculate sentiment scores for all tweets\n",
    "BaseLineApproach_Final_tweets['Sentiment_Score'] = BaseLineApproach_Final_tweets['Tokens'].apply(calculate_sentiment_score)"
   ]
  },
  {
   "cell_type": "code",
   "execution_count": 17,
   "id": "90581204",
   "metadata": {},
   "outputs": [
    {
     "data": {
      "text/html": [
       "<div>\n",
       "<style scoped>\n",
       "    .dataframe tbody tr th:only-of-type {\n",
       "        vertical-align: middle;\n",
       "    }\n",
       "\n",
       "    .dataframe tbody tr th {\n",
       "        vertical-align: top;\n",
       "    }\n",
       "\n",
       "    .dataframe thead th {\n",
       "        text-align: right;\n",
       "    }\n",
       "</style>\n",
       "<table border=\"1\" class=\"dataframe\">\n",
       "  <thead>\n",
       "    <tr style=\"text-align: right;\">\n",
       "      <th></th>\n",
       "      <th>Tokens</th>\n",
       "      <th>Sentiment_Score</th>\n",
       "    </tr>\n",
       "  </thead>\n",
       "  <tbody>\n",
       "    <tr>\n",
       "      <th>95</th>\n",
       "      <td>[మోదీ, బర్త్‌, డే.., పుట్టినరోజు, పిల్లలకు, బంగారం, గిఫ్ట్.., |, ABN, Digital, Watch, Video, ---&amp;gt;&amp;gt;, https://t.co/oMx11Dnmjd, #Narendra_Modi, #NarendraModiJiBirthday, #BJPLeaders, #goldsupply, #TamilNadu, #ABN, #ABNDigital]</td>\n",
       "      <td>-0.750</td>\n",
       "    </tr>\n",
       "    <tr>\n",
       "      <th>96</th>\n",
       "      <td>[BJP, అబ్బద్దప్రచారాలను, పటాపంచలు, చేస్తూ, దూసుకుపోతున్న, రాహుల్, గాంధీ, ఇమేజ్.., Rahul, Gandhi, #RahulGandhiVoiceOfIndia, #BharatJodoYatra, https://t.co/jbzW3DCsOa]</td>\n",
       "      <td>0.000</td>\n",
       "    </tr>\n",
       "    <tr>\n",
       "      <th>97</th>\n",
       "      <td>[@narendramodi, నేడు, Prime, Minister, of, India, Narendra, Modi, గారి, జన్మదిన, వేడుకలు, సందర్భంగా, శుభాకాంక్షలు, తెలుపుతూ, శ్రీ, సత్య, సాయి, జిల్లా, కదిరి, నియోజక, వర్గం, నంబుల, పూలకుంట, ప్రాధమిక, వైద్యశాల, నందు, రక్త, దానం, చేయడం, జరిగింది., https://t.co/v5ZQGd1J3T]</td>\n",
       "      <td>0.875</td>\n",
       "    </tr>\n",
       "    <tr>\n",
       "      <th>98</th>\n",
       "      <td>[మోదీ, కాన్వాయ్, లోకి, ఆంబులెన్స్, –, కాసేపు, కాన్వాయ్, ని, పక్కకు, నిలిపిన, ప్రధాని, సిబ్బంది-సోషల్మీడియోలో, వీడియో, వైరల్, |, Narendra, Modi, |, Gujarat, |, Ambulance, |, MyIndMedia, #Gujarat, #NarendraModi, #Modi, #BJP, #Ambulance, https://t.co/SpDA6xVzYY]</td>\n",
       "      <td>0.000</td>\n",
       "    </tr>\n",
       "    <tr>\n",
       "      <th>99</th>\n",
       "      <td>[బీజేపీ, ప్రభుత్వం, ఎలా, ఏర్పడుతున్నాయి?, BJP, |, Narendra, Modi, |, Sitharam, Yec..., https://t.co/vjXs4a79tr, via, @YouTube]</td>\n",
       "      <td>0.000</td>\n",
       "    </tr>\n",
       "  </tbody>\n",
       "</table>\n",
       "</div>"
      ],
      "text/plain": [
       "                                                                                                                                                                                                                                                                           Tokens  \\\n",
       "95                                           [మోదీ, బర్త్‌, డే.., పుట్టినరోజు, పిల్లలకు, బంగారం, గిఫ్ట్.., |, ABN, Digital, Watch, Video, ---&gt;&gt;, https://t.co/oMx11Dnmjd, #Narendra_Modi, #NarendraModiJiBirthday, #BJPLeaders, #goldsupply, #TamilNadu, #ABN, #ABNDigital]   \n",
       "96                                                                                                          [BJP, అబ్బద్దప్రచారాలను, పటాపంచలు, చేస్తూ, దూసుకుపోతున్న, రాహుల్, గాంధీ, ఇమేజ్.., Rahul, Gandhi, #RahulGandhiVoiceOfIndia, #BharatJodoYatra, https://t.co/jbzW3DCsOa]   \n",
       "97  [@narendramodi, నేడు, Prime, Minister, of, India, Narendra, Modi, గారి, జన్మదిన, వేడుకలు, సందర్భంగా, శుభాకాంక్షలు, తెలుపుతూ, శ్రీ, సత్య, సాయి, జిల్లా, కదిరి, నియోజక, వర్గం, నంబుల, పూలకుంట, ప్రాధమిక, వైద్యశాల, నందు, రక్త, దానం, చేయడం, జరిగింది., https://t.co/v5ZQGd1J3T]   \n",
       "98            [మోదీ, కాన్వాయ్, లోకి, ఆంబులెన్స్, –, కాసేపు, కాన్వాయ్, ని, పక్కకు, నిలిపిన, ప్రధాని, సిబ్బంది-సోషల్మీడియోలో, వీడియో, వైరల్, |, Narendra, Modi, |, Gujarat, |, Ambulance, |, MyIndMedia, #Gujarat, #NarendraModi, #Modi, #BJP, #Ambulance, https://t.co/SpDA6xVzYY]   \n",
       "99                                                                                                                                                 [బీజేపీ, ప్రభుత్వం, ఎలా, ఏర్పడుతున్నాయి?, BJP, |, Narendra, Modi, |, Sitharam, Yec..., https://t.co/vjXs4a79tr, via, @YouTube]   \n",
       "\n",
       "    Sentiment_Score  \n",
       "95           -0.750  \n",
       "96            0.000  \n",
       "97            0.875  \n",
       "98            0.000  \n",
       "99            0.000  "
      ]
     },
     "execution_count": 17,
     "metadata": {},
     "output_type": "execute_result"
    }
   ],
   "source": [
    "pd.set_option('display.max_colwidth', None)\n",
    "BaseLineApproach_Final_tweets[['Tokens','Sentiment_Score']].tail()"
   ]
  },
  {
   "cell_type": "markdown",
   "id": "6ac15ffc",
   "metadata": {},
   "source": [
    "### Sentiment Classification\n",
    "\n",
    "Lets classify the sentimets based on the score that we got."
   ]
  },
  {
   "cell_type": "code",
   "execution_count": 18,
   "id": "a5df8c10",
   "metadata": {},
   "outputs": [],
   "source": [
    "def classify_sentiment(score):\n",
    "    if score > 0:\n",
    "        return \"Positive\"\n",
    "    elif score < 0:\n",
    "        return \"Negative\"\n",
    "    else:\n",
    "        return \"Neutral\"\n",
    "\n",
    "BaseLineApproach_Final_tweets['Sentiment'] = BaseLineApproach_Final_tweets['Sentiment_Score'].apply(classify_sentiment)"
   ]
  },
  {
   "cell_type": "code",
   "execution_count": 19,
   "id": "ff486563",
   "metadata": {},
   "outputs": [
    {
     "data": {
      "text/html": [
       "<div>\n",
       "<style scoped>\n",
       "    .dataframe tbody tr th:only-of-type {\n",
       "        vertical-align: middle;\n",
       "    }\n",
       "\n",
       "    .dataframe tbody tr th {\n",
       "        vertical-align: top;\n",
       "    }\n",
       "\n",
       "    .dataframe thead th {\n",
       "        text-align: right;\n",
       "    }\n",
       "</style>\n",
       "<table border=\"1\" class=\"dataframe\">\n",
       "  <thead>\n",
       "    <tr style=\"text-align: right;\">\n",
       "      <th></th>\n",
       "      <th>Sentiment_Score</th>\n",
       "      <th>Sentiment</th>\n",
       "    </tr>\n",
       "  </thead>\n",
       "  <tbody>\n",
       "    <tr>\n",
       "      <th>95</th>\n",
       "      <td>-0.750</td>\n",
       "      <td>Negative</td>\n",
       "    </tr>\n",
       "    <tr>\n",
       "      <th>96</th>\n",
       "      <td>0.000</td>\n",
       "      <td>Neutral</td>\n",
       "    </tr>\n",
       "    <tr>\n",
       "      <th>97</th>\n",
       "      <td>0.875</td>\n",
       "      <td>Positive</td>\n",
       "    </tr>\n",
       "    <tr>\n",
       "      <th>98</th>\n",
       "      <td>0.000</td>\n",
       "      <td>Neutral</td>\n",
       "    </tr>\n",
       "    <tr>\n",
       "      <th>99</th>\n",
       "      <td>0.000</td>\n",
       "      <td>Neutral</td>\n",
       "    </tr>\n",
       "  </tbody>\n",
       "</table>\n",
       "</div>"
      ],
      "text/plain": [
       "    Sentiment_Score Sentiment\n",
       "95           -0.750  Negative\n",
       "96            0.000   Neutral\n",
       "97            0.875  Positive\n",
       "98            0.000   Neutral\n",
       "99            0.000   Neutral"
      ]
     },
     "execution_count": 19,
     "metadata": {},
     "output_type": "execute_result"
    }
   ],
   "source": [
    "BaseLineApproach_Final_tweets[['Sentiment_Score','Sentiment']].tail()"
   ]
  },
  {
   "cell_type": "markdown",
   "id": "01499821",
   "metadata": {},
   "source": [
    "Lets plot all the sentiment scores that we got"
   ]
  },
  {
   "cell_type": "code",
   "execution_count": 20,
   "id": "adb6b296",
   "metadata": {},
   "outputs": [
    {
     "data": {
      "image/png": "[encoded data removed]",
      "text/plain": [
       "<Figure size 432x288 with 1 Axes>"
      ]
     },
     "metadata": {
      "needs_background": "light"
     },
     "output_type": "display_data"
    },
    {
     "data": {
      "image/png": "[encoded data removed]",
      "text/plain": [
       "<Figure size 432x288 with 1 Axes>"
      ]
     },
     "metadata": {
      "needs_background": "light"
     },
     "output_type": "display_data"
    }
   ],
   "source": [
    "import matplotlib.pyplot as plt\n",
    "\n",
    "# Sentiment Score Distribution\n",
    "plt.hist(BaseLineApproach_Final_tweets['Sentiment_Score'], bins=50, color='blue', edgecolor='black')\n",
    "plt.title('Sentiment Score Distribution')\n",
    "plt.xlabel('Sentiment Score')\n",
    "plt.ylabel('Number of Tweets')\n",
    "plt.show()\n",
    "\n",
    "# Tweet Sentiment Classification\n",
    "BaseLineApproach_Final_tweets['Sentiment'].value_counts().plot(kind='bar', color=['green', 'red', 'blue'])\n",
    "plt.title('Tweet Sentiment Classification')\n",
    "plt.xlabel('Sentiment')\n",
    "plt.ylabel('Number of Tweets')\n",
    "plt.show()"
   ]
  },
  {
   "cell_type": "code",
   "execution_count": 21,
   "id": "11b1fc9e",
   "metadata": {},
   "outputs": [
    {
     "data": {
      "image/png": "[encoded data removed]",
      "text/plain": [
       "<Figure size 720x432 with 1 Axes>"
      ]
     },
     "metadata": {},
     "output_type": "display_data"
    }
   ],
   "source": [
    "import matplotlib.pyplot as plt\n",
    "import seaborn as sns\n",
    "\n",
    "# Set the style of Seaborn for better visualization\n",
    "sns.set_style(\"whitegrid\")\n",
    "\n",
    "# Plotting the histogram\n",
    "plt.figure(figsize=(10, 6))\n",
    "sns.histplot(BaseLineApproach_Final_tweets['Sentiment_Score'], bins=30, kde=True, color='skyblue')\n",
    "plt.title('Distribution of Sentiment Scores Across Tweets')\n",
    "plt.xlabel('Sentiment Score')\n",
    "plt.ylabel('Number of Tweets')\n",
    "plt.tight_layout()\n",
    "plt.show()\n",
    "\n"
   ]
  },
  {
   "cell_type": "code",
   "execution_count": 22,
   "id": "c3816a25",
   "metadata": {},
   "outputs": [
    {
     "data": {
      "image/png": "[encoded data removed]",
      "text/plain": [
       "<Figure size 576x432 with 1 Axes>"
      ]
     },
     "metadata": {},
     "output_type": "display_data"
    }
   ],
   "source": [
    "# Calculate the count of each sentiment category\n",
    "sentiment_counts = BaseLineApproach_Final_tweets['Sentiment'].value_counts()\n",
    "\n",
    "# Plotting the pie chart\n",
    "plt.figure(figsize=(8, 6))\n",
    "sentiment_counts.plot.pie(autopct='%1.1f%%', startangle=140, colors=['skyblue', 'yellow', 'salmon'])\n",
    "plt.title('Proportion of Tweets in Each Sentiment Category')\n",
    "plt.ylabel('')  # Hide y-label as it's not needed for pie charts\n",
    "plt.tight_layout()\n",
    "plt.show()\n"
   ]
  },
  {
   "cell_type": "code",
   "execution_count": 23,
   "id": "071863b2",
   "metadata": {},
   "outputs": [
    {
     "data": {
      "text/plain": [
       "Positive    54\n",
       "Negative    25\n",
       "Neutral     21\n",
       "Name: Sentiment, dtype: int64"
      ]
     },
     "execution_count": 23,
     "metadata": {},
     "output_type": "execute_result"
    }
   ],
   "source": [
    "BaseLineApproach_Final_tweets['Sentiment'].value_counts()"
   ]
  },
  {
   "cell_type": "markdown",
   "id": "2ad30902",
   "metadata": {},
   "source": [
    "# Writing the final_sample_tweets dataframe to a CSV file"
   ]
  },
  {
   "cell_type": "code",
   "execution_count": 24,
   "id": "97e3edfe",
   "metadata": {},
   "outputs": [],
   "source": [
    "# Writing the final_sample_tweets dataframe to a CSV file\n",
    "file_path = \"../Temp/BaseLineApproach_Final_tweets.csv\"\n",
    "BaseLineApproach_Final_tweets.to_csv(file_path, index=False)"
   ]
  }
 ],
 "metadata": {
  "kernelspec": {
   "display_name": "Python 3 (ipykernel)",
   "language": "python",
   "name": "python3"
  },
  "language_info": {
   "codemirror_mode": {
    "name": "ipython",
    "version": 3
   },
   "file_extension": ".py",
   "mimetype": "text/x-python",
   "name": "python",
   "nbconvert_exporter": "python",
   "pygments_lexer": "ipython3",
   "version": "3.8.8"
  }
 },
 "nbformat": 4,
 "nbformat_minor": 5
}
